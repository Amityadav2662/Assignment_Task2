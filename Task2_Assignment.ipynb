{
 "cells": [
  {
   "cell_type": "code",
   "execution_count": 10,
   "id": "3a967779-f519-44fd-8a34-d0d3e7339cb6",
   "metadata": {},
   "outputs": [
    {
     "name": "stdin",
     "output_type": "stream",
     "text": [
      "Enter the password AkY@1#gm#l\n"
     ]
    },
    {
     "name": "stdout",
     "output_type": "stream",
     "text": [
      "Valid Password\n"
     ]
    }
   ],
   "source": [
    "# Q1.\n",
    "def CheckPassword(password):\n",
    "    if len(password) != 10:\n",
    "        return \"Invalid Password\"\n",
    "    \n",
    "    count_upper = 0\n",
    "    count_lower = 0\n",
    "    count_number = 0\n",
    "    count_special = 0\n",
    "    \n",
    "    for i in password:\n",
    "        if i.isupper():\n",
    "            count_upper += 1\n",
    "        elif i.islower():\n",
    "            count_lower += 1\n",
    "        elif i.isdigit():\n",
    "            count_number += 1\n",
    "        elif i not in (str , int) :\n",
    "            count_special += 1\n",
    "            \n",
    "    \n",
    "    if count_upper >= 2 and count_lower >= 2 and count_number > 0 and count_special > 2:\n",
    "        return \"Valid Password\"\n",
    "    \n",
    "    return \"Invalid Password\"\n",
    "\n",
    "password = input(\"Enter the password\")\n",
    "result = CheckPassword(password)\n",
    "print(result)"
   ]
  },
  {
   "cell_type": "code",
   "execution_count": 40,
   "id": "27d78edf-8749-4510-be38-77cf2bc5db57",
   "metadata": {},
   "outputs": [
    {
     "name": "stdout",
     "output_type": "stream",
     "text": [
      "True\n"
     ]
    }
   ],
   "source": [
    "# Q2.\n",
    "# Check if the string starts with a particular letter.\n",
    "w = lambda x : x.startswith(\"a\")\n",
    "print(w(\"amit\"))"
   ]
  },
  {
   "cell_type": "code",
   "execution_count": 41,
   "id": "37b402b7-8aec-4dca-b0ef-c935e8a1e64c",
   "metadata": {},
   "outputs": [
    {
     "name": "stdout",
     "output_type": "stream",
     "text": [
      "True\n"
     ]
    }
   ],
   "source": [
    "# Check if the string is numeric\n",
    "x = lambda x : x.isdigit() \n",
    "print(x(\"12345\"))"
   ]
  },
  {
   "cell_type": "code",
   "execution_count": 45,
   "id": "c8c5cb52-46d8-42c0-b3bf-bc278f57f195",
   "metadata": {},
   "outputs": [
    {
     "name": "stdout",
     "output_type": "stream",
     "text": [
      "[('orange', 80), ('mango', 99), ('grapes', 1000)]\n"
     ]
    }
   ],
   "source": [
    "# Sort a list of tuples having fruit names and their quantity. [(\"mango\",99),(\"orange\",80), (\"grapes\", 1000)\n",
    "l = [(\"mango\",99),(\"orange\",80), (\"grapes\", 1000)]\n",
    "sorted_list = sorted(l , key = lambda x:x[1])\n",
    "print(sorted_list)"
   ]
  },
  {
   "cell_type": "code",
   "execution_count": 47,
   "id": "d2810ead-8ab9-4b75-8a42-50e6b101705e",
   "metadata": {},
   "outputs": [
    {
     "data": {
      "text/plain": [
       "[1, 4, 9, 16, 25, 36, 49, 64, 81, 100]"
      ]
     },
     "execution_count": 47,
     "metadata": {},
     "output_type": "execute_result"
    }
   ],
   "source": [
    "# Find the squares of numbers from 1 to 10\n",
    "[i**2 for i in range(1,11)]"
   ]
  },
  {
   "cell_type": "code",
   "execution_count": 52,
   "id": "948c88b8-0c5f-4fdc-b976-35ba6d6e3364",
   "metadata": {},
   "outputs": [
    {
     "data": {
      "text/plain": [
       "[1.0,\n",
       " 1.2599210498948732,\n",
       " 1.4422495703074083,\n",
       " 1.5874010519681994,\n",
       " 1.7099759466766968,\n",
       " 1.8171205928321397,\n",
       " 1.912931182772389,\n",
       " 2.0,\n",
       " 2.080083823051904,\n",
       " 2.154434690031884]"
      ]
     },
     "execution_count": 52,
     "metadata": {},
     "output_type": "execute_result"
    }
   ],
   "source": [
    "# Find the cube root of numbers from 1 to 10\n",
    "import math\n",
    "[math.pow(i,1/3) for i in range(1,11)]"
   ]
  },
  {
   "cell_type": "code",
   "execution_count": 64,
   "id": "9f4b79b6-99b7-4be4-b7fb-6e5d2711d75e",
   "metadata": {},
   "outputs": [
    {
     "name": "stdout",
     "output_type": "stream",
     "text": [
      "even\n"
     ]
    }
   ],
   "source": [
    "# Check if a given number is even\n",
    "a = lambda x :'even' if x%2 == 0 else 'odd'\n",
    "print(a(4))"
   ]
  },
  {
   "cell_type": "code",
   "execution_count": 66,
   "id": "eba22db0-8043-4c9b-bd88-e0769d5b21cf",
   "metadata": {},
   "outputs": [
    {
     "data": {
      "text/plain": [
       "[1, 3, 5, 7, 9]"
      ]
     },
     "execution_count": 66,
     "metadata": {},
     "output_type": "execute_result"
    }
   ],
   "source": [
    "# Filter odd numbers from the given list.\n",
    "l = [1,2,3,4,5,6,7,8,9,10]\n",
    "[i for i in l if i % 2 != 0 ]"
   ]
  },
  {
   "cell_type": "code",
   "execution_count": 69,
   "id": "3f61ce85-3170-4cbd-b1df-403de1e8484a",
   "metadata": {},
   "outputs": [
    {
     "name": "stdout",
     "output_type": "stream",
     "text": [
      "[1, 2, 3, 4, 5, 6, 0]\n",
      "[-1, -2, -3, -4, -5]\n"
     ]
    }
   ],
   "source": [
    "# Sort a list of integers into positive and negative integers lists.\n",
    "l = [1,2,3,4,5,6,-1,-2,-3,-4,-5,0]\n",
    "positive = list(filter(lambda x : x >= 0,l))\n",
    "print(positive)\n",
    "negative = list(filter(lambda x : x < 0,l))\n",
    "print(negative)"
   ]
  },
  {
   "cell_type": "code",
   "execution_count": null,
   "id": "74109b0e-a7ac-4774-996b-f9c852bf335a",
   "metadata": {},
   "outputs": [],
   "source": []
  }
 ],
 "metadata": {
  "kernelspec": {
   "display_name": "Python 3 (ipykernel)",
   "language": "python",
   "name": "python3"
  },
  "language_info": {
   "codemirror_mode": {
    "name": "ipython",
    "version": 3
   },
   "file_extension": ".py",
   "mimetype": "text/x-python",
   "name": "python",
   "nbconvert_exporter": "python",
   "pygments_lexer": "ipython3",
   "version": "3.10.8"
  }
 },
 "nbformat": 4,
 "nbformat_minor": 5
}
